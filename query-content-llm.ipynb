{
 "cells": [
  {
   "cell_type": "code",
   "execution_count": null,
   "id": "deae9a16-2b8b-4ad6-bbc8-a5b6d0193482",
   "metadata": {},
   "outputs": [],
   "source": [
    "from langchain.embeddings.sentence_transformer import SentenceTransformerEmbeddings"
   ]
  },
  {
   "cell_type": "code",
   "execution_count": null,
   "id": "1a86d1df-a66b-44e6-9fe1-cc283e249329",
   "metadata": {},
   "outputs": [],
   "source": [
    "embeddings = SentenceTransformerEmbeddings(model_name = \"all-MiniLM-L6-v2\")"
   ]
  },
  {
   "cell_type": "code",
   "execution_count": null,
   "id": "605a4d46-f203-4588-9263-18ae72627caf",
   "metadata": {},
   "outputs": [],
   "source": [
    "import os\n",
    "os.environ[\"PINECONE_API_KEY\"] = \"REPLACE WITH VALID KEY\"\n",
    "\n",
    "PINECONE_APIKEY = os.environ[\"PINECONE_API_KEY\"]\n",
    "\n",
    "INDEX_NAME      = \"website\""
   ]
  },
  {
   "cell_type": "code",
   "execution_count": null,
   "id": "da8842fe-076f-459e-aaac-888494e2b20a",
   "metadata": {},
   "outputs": [],
   "source": [
    "from langchain_community.vectorstores import Pinecone\n",
    "from pinecone import Pinecone as PineconeClient"
   ]
  },
  {
   "cell_type": "code",
   "execution_count": null,
   "id": "548fb314-21ec-4cfc-a143-1b3c067a5945",
   "metadata": {},
   "outputs": [],
   "source": [
    "index = Pinecone.from_existing_index(INDEX_NAME, embeddings)"
   ]
  },
  {
   "cell_type": "code",
   "execution_count": null,
   "id": "35ea859e-3763-4240-839a-312acc9fcc4e",
   "metadata": {},
   "outputs": [],
   "source": [
    "index"
   ]
  },
  {
   "cell_type": "code",
   "execution_count": null,
   "id": "2c70493c-3527-4019-a13e-191604596c46",
   "metadata": {},
   "outputs": [],
   "source": [
    "similar = index.similarity_search(\"microservice\", k = 1)\n",
    "similar"
   ]
  },
  {
   "cell_type": "code",
   "execution_count": null,
   "id": "a77e293d-3cb1-4d28-b7d2-7da5ea1d4b92",
   "metadata": {},
   "outputs": [],
   "source": [
    "similar[0].page_content"
   ]
  },
  {
   "cell_type": "code",
   "execution_count": null,
   "id": "79e40395-e862-4396-b3b4-10a3ee94a5e0",
   "metadata": {},
   "outputs": [],
   "source": [
    "query = \"Founder of Comorin\""
   ]
  },
  {
   "cell_type": "code",
   "execution_count": null,
   "id": "5a53f32d-2d66-4c4f-be89-99c5ff3e1fc7",
   "metadata": {},
   "outputs": [],
   "source": [
    "  retrieval_prompt = f\"\"\"\n",
    "  Find documents in the knowledge base that are similar to the following query:\n",
    "\n",
    "  {query}\n",
    "\n",
    "  Here are some candidate documents:\n",
    "\n",
    "  {similar[0].page_content}\n",
    "\n",
    "  Keep it breif\n",
    "  \"\"\""
   ]
  },
  {
   "cell_type": "code",
   "execution_count": null,
   "id": "13c12d65-4dd1-4f99-82c1-b919cbbc83c3",
   "metadata": {},
   "outputs": [],
   "source": [
    "OPENAI_KEY = \"REPLACE WITH VALID KEY\""
   ]
  },
  {
   "cell_type": "code",
   "execution_count": null,
   "id": "6a04c3a4-e223-4ae7-a3fe-bb2a95939329",
   "metadata": {},
   "outputs": [],
   "source": [
    "from langchain_openai import OpenAI\n"
   ]
  },
  {
   "cell_type": "code",
   "execution_count": null,
   "id": "78806d10-8a7a-46cd-8c31-9fea632f8106",
   "metadata": {},
   "outputs": [],
   "source": [
    "openai = OpenAI(api_key=OPENAI_KEY)"
   ]
  },
  {
   "cell_type": "code",
   "execution_count": null,
   "id": "40b10216-a2cc-4f7a-bcda-0fd26e615288",
   "metadata": {},
   "outputs": [],
   "source": [
    "openai.invoke(retrieval_prompt)"
   ]
  }
 ],
 "metadata": {
  "kernelspec": {
   "display_name": "Python 3 (ipykernel)",
   "language": "python",
   "name": "python3"
  },
  "language_info": {
   "codemirror_mode": {
    "name": "ipython",
    "version": 3
   },
   "file_extension": ".py",
   "mimetype": "text/x-python",
   "name": "python",
   "nbconvert_exporter": "python",
   "pygments_lexer": "ipython3",
   "version": "3.10.12"
  }
 },
 "nbformat": 4,
 "nbformat_minor": 5
}
