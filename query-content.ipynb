{
 "cells": [
  {
   "cell_type": "code",
   "execution_count": 1,
   "id": "deae9a16-2b8b-4ad6-bbc8-a5b6d0193482",
   "metadata": {},
   "outputs": [],
   "source": [
    "from langchain.embeddings.sentence_transformer import SentenceTransformerEmbeddings"
   ]
  },
  {
   "cell_type": "code",
   "execution_count": 2,
   "id": "1a86d1df-a66b-44e6-9fe1-cc283e249329",
   "metadata": {},
   "outputs": [
    {
     "name": "stderr",
     "output_type": "stream",
     "text": [
      "C:\\Users\\jeeva\\anaconda3\\envs\\kjc-v2\\lib\\site-packages\\huggingface_hub\\file_download.py:1132: FutureWarning: `resume_download` is deprecated and will be removed in version 1.0.0. Downloads always resume when possible. If you want to force a new download, use `force_download=True`.\n",
      "  warnings.warn(\n",
      "C:\\Users\\jeeva\\anaconda3\\envs\\kjc-v2\\lib\\site-packages\\huggingface_hub\\file_download.py:1132: FutureWarning: `resume_download` is deprecated and will be removed in version 1.0.0. Downloads always resume when possible. If you want to force a new download, use `force_download=True`.\n",
      "  warnings.warn(\n"
     ]
    }
   ],
   "source": [
    "embeddings = SentenceTransformerEmbeddings(model_name = \"all-MiniLM-L6-v2\")"
   ]
  },
  {
   "cell_type": "code",
   "execution_count": 3,
   "id": "605a4d46-f203-4588-9263-18ae72627caf",
   "metadata": {},
   "outputs": [],
   "source": [
    "import os\n",
    "os.environ[\"PINECONE_API_KEY\"] = \"ad92b178-60c9-4573-9b15-f18635762a28\"\n",
    "\n",
    "PINECONE_APIKEY = os.environ[\"PINECONE_API_KEY\"]\n",
    "PINECONE_ENV    = \"us-east-1\"\n",
    "INDEX_NAME      = \"website\""
   ]
  },
  {
   "cell_type": "code",
   "execution_count": 4,
   "id": "da8842fe-076f-459e-aaac-888494e2b20a",
   "metadata": {},
   "outputs": [],
   "source": [
    "from langchain_community.vectorstores import Pinecone\n",
    "from pinecone import Pinecone as PineconeClient"
   ]
  },
  {
   "cell_type": "code",
   "execution_count": 5,
   "id": "548fb314-21ec-4cfc-a143-1b3c067a5945",
   "metadata": {},
   "outputs": [],
   "source": [
    "index = Pinecone.from_existing_index(INDEX_NAME, embeddings)"
   ]
  },
  {
   "cell_type": "code",
   "execution_count": 6,
   "id": "35ea859e-3763-4240-839a-312acc9fcc4e",
   "metadata": {},
   "outputs": [
    {
     "data": {
      "text/plain": [
       "<langchain_community.vectorstores.pinecone.Pinecone at 0x203085d8760>"
      ]
     },
     "execution_count": 6,
     "metadata": {},
     "output_type": "execute_result"
    }
   ],
   "source": [
    "index"
   ]
  },
  {
   "cell_type": "code",
   "execution_count": 17,
   "id": "2c70493c-3527-4019-a13e-191604596c46",
   "metadata": {},
   "outputs": [
    {
     "data": {
      "text/plain": [
       "[Document(page_content=\"\\n\\n\\n\\n\\n\\n\\n\\n\\n\\n\\n\\n\\nComorin Consulting Services\\n\\n\\n\\n\\n\\n\\n\\n\\n\\n\\n\\n\\n\\n\\n\\n\\n\\n\\n\\n\\n\\n\\n\\n\\n\\n\\n\\n\\n\\n\\nToggle navigation\\n\\n\\n\\n\\n\\n\\n\\n\\n\\n\\n\\n\\n\\n\\n\\nHome\\nAbout Us\\nServices\\n\\n\\n\\n\\n\\nContact\\n\\n\\n\\n\\n\\n\\n\\n\\n\\n\\n\\nWe transform your ideasinto\\n\\t\\t\\t\\t\\tenterprise grade products, and modernize existing productsthrough technology.\\n\\n\\n\\n\\n\\n\\n\\n\\n\\nOur company aims to provide various\\n\\t\\t\\t\\t\\t\\tconsulting services to enterprises. We transform your ideas to user delight using modern technology, tools\\n\\t\\t\\t\\t\\t\\tand process. On a mission to pursue excellence we pride ourselves in our ability to develop quality\\n\\t\\t\\t\\t\\t\\tproducts.\\n\\t\\t\\t\\t\\t\\n\\n \\n\\n\\n We never cease to leverage emerging\\n\\t\\t\\t\\t\\t\\ttechnologies.\\n\\n\\n \\n \\n\\n\\n\\n\\n\\n\\n\\n\\n\\n\\n\\nBlockChain\\nWe deliver high-quality blockchain solutions to dominate the decentralized world with our top-level\\n\\t\\t\\t\\t\\t\\t\\t\\tblockchain development tools. \\n\\n\\n\\n\\nAgile/DevOps\\nWe work with a combination of Scrum and continuous delivery providing a proper planned work,\\n\\t\\t\\t\\t\\t\\t\\t\\ttransparency and visibility to management and stakeholders.\\n\\n\\n\\n\\nCloud Automation\\nWe serve you to backup your data on regular intervals providing version control for workflows,\\n\\t\\t\\t\\t\\t\\t\\t\\testablish infrastructure as code and auto-provision virtual servers to ease your workload.\\n\\n\\n\\n\\nTest Automation\\nWith automated testing we provide you the service of testing the functionality, load, performance and\\n\\t\\t\\t\\t\\t\\t\\t\\tstress testing your software product using testing scripts and test automation tools.\\n\\t\\t\\t\\t\\t\\t\\t\\n\\n\\n\\n\\n\\n\\n\\n\\n\\nMachine Learning\\nWith minimal human intervention we redirect you to a path of Artificial Intelligence that will help you\\n\\t\\t\\t\\t\\t\\t\\t\\tfinish most of your task in short span of time.\\n\\n\\n\\n\\nMicroservices\\nEvolving with technology is one of the key trend and requirement today. With Microservice architecture\\n\\t\\t\\t\\t\\t\\t\\t\\twe serve you to continuos deliver and deploy large and complex applications.\\n\\n\\n\\n\\nConsulting \\nWe guide you to discover and amplify your expertise. Our team will help you to find solution in every\\n\\t\\t\\t\\t\\t\\t\\t\\tbit of consequences you went through in your organization.\\n\\n\\n\\n\\nMobile Application \\nWe design and construct responsive, interactive and emulative Web and mobile application for your\\n\\t\\t\\t\\t\\t\\t\\t\\tbusiness and enterprises.\\n\\n\\n\\n\\n\\n\\n \\n\\n\\n\\n\\n\\n\\n\\n\\n\\n\\n\\n\\n\\n\\n\\n\\n\\n\\n\\n\\n\\n\\n\\n\\n\\n\\n\\n\\n\\n\\n\\n\\n\\n\\n\\n\\n\\n\\n\\n\\n\\n\\nThe Founders\\n\\n\\n\\n\\n\\n\\n\\n\\n\\n\\n\\n\\n\\n\\n\\n\\n\\n\\n\\n\\nJeeva S. Chelladhurai\\nFounder\\nAn experienced entrepreneur, dynamic leader, technical author, and public speaker.\\n\\t\\t\\t\\t\\t\\t\\t20 years of experience in product development and IT services.\\n\\t\\t\\t\\t\\t\\t\\tSpecialized in Blockchain, Microservice Architecture (MSA), DevSecOps and Multi-Cloud automation.\\nHosted multiple technical forums, authored technical books on docker.\\n\\n\\n\\n\\n\\n\\n\\n\\n\\n\\n\\n\\n\\n\\n\\n\\n\\n\\n\\n\\n\\n\\n\\nMohamed Ijaz\\nCo-Founder\\nA tech-savvy developer leading the entire Blockchain team at Comorin.\\nApt with Blockchain/Microservice Architect/Docker/Full Stack,\\nEthereum, Quorum, AChain, HyperLedger, ERC tokens etc.\\nBuilding Scalable products and solving business challenges\\n\\t\\t\\t\\t\\t\\t\\t\\n\\n\\n\\n\\n\\n\\n\\n\\n\\n\\n\\n\\n\\n\\n\\n\\n\\n\\n\\n\\n\\n\\n\\n\\n\\n\\n\\n\\n\\n\\n\\n\\n\\n\\n\\n\\n\\n\\n\\n\\n\\n\\n\\n\\n\\n\\n\\n\\n\\n\\n\\n\\n\\n\\n\\n\\n\\n\\n\\n\\n\\n\\n\\n\\n\\n\\n\\n\\n\\n\\n\\n\\n\\n\\n\\n\\n\\n\\n\\n\\n\\n\\n\\n\\n\\n\\n\\n\\n\\n\\n\\n\\n\\n\\n\\n\\n\\n\\n\\n\\n\\n\\n\\n\\n\\n\\n\\n\\n\\n\\n\\n\\n\\nGet In Touch\\n\\n\\n\\n\\n\\n\\n\\n\\n\\nYou can find us here\\n\\n\\n\\n\\n\\n\\n\\n\\n\\n\\n\\n\\n\\n\\n\\n\\n\\n\\n\\n\\n\\n\\nLet's Talk: +91 91085 67122\\n\\n\\n\\nMail us: info@comorin.co\\n\\n\\n\\n\\n\\n\\n\\n\\n\\n\\n\\n\\n\\n\\n\\n\\n\\t\\t\\t\\t\\t\\t\\tThank you. The Mailman is on His Way :)\\n\\t\\t\\t\\t\\t\\t\\n\\n\\t\\t\\t\\t\\t\\t\\tSorry, don't know what happened. Try later :(\\n\\t\\t\\t\\t\\t\\t\\n\\n\\n\\n\\n\\n\\n \\n \\n \\n\\n\\n\\n\\n\\n\\n\\n\\n\\n\\n\\n\\n\\nConnect with us\\n\\n\\n\\n\\n\\n\\n\\n\\n\\n\\n\\n\\n\\n\\n\\n\\n\\n\\n\\n\\n\\n \\n\\n\\n Copyright © 2022. All Rights Reserved\\n Comorin Consulting Services pvt. ltd.\\n\\n \\n\\n\\n\\n\\n\\n\\n\\n\\n\\n\\n\\n\\n\\n\\n\\n\\n\\n\\n\\n\\n\\n\\n\\n\\n\\n\\n\", metadata={'description': 'Comorin Consulting Services | We transform your ideas into enterprise grade products, and modernize existing products', 'language': 'No language found.', 'source': 'https://comorin.co', 'title': 'Comorin Consulting Services'})]"
      ]
     },
     "execution_count": 17,
     "metadata": {},
     "output_type": "execute_result"
    }
   ],
   "source": [
    "similar = index.similarity_search(\"microservice\", k = 1)\n",
    "similar"
   ]
  }
 ],
 "metadata": {
  "kernelspec": {
   "display_name": "Python 3 (ipykernel)",
   "language": "python",
   "name": "python3"
  },
  "language_info": {
   "codemirror_mode": {
    "name": "ipython",
    "version": 3
   },
   "file_extension": ".py",
   "mimetype": "text/x-python",
   "name": "python",
   "nbconvert_exporter": "python",
   "pygments_lexer": "ipython3",
   "version": "3.10.12"
  }
 },
 "nbformat": 4,
 "nbformat_minor": 5
}
