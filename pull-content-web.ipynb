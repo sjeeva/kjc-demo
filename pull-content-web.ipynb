{
 "cells": [
  {
   "cell_type": "code",
   "execution_count": null,
   "id": "7ba6b485-1ced-49d1-880a-7479f2438d47",
   "metadata": {},
   "outputs": [],
   "source": [
    "from tqdm import tqdm as notebook_tqdm"
   ]
  },
  {
   "cell_type": "code",
   "execution_count": null,
   "id": "7a234fd5-0b4e-4d62-b831-cafb7072ea20",
   "metadata": {},
   "outputs": [],
   "source": [
    "import nest_asyncio\n",
    "\n",
    "nest_asyncio.apply()"
   ]
  },
  {
   "cell_type": "code",
   "execution_count": null,
   "id": "37147ece-cb9a-40c6-a45a-13ef89831889",
   "metadata": {},
   "outputs": [],
   "source": [
    "WEBSITE_URL = \"https://comorin.co\""
   ]
  },
  {
   "cell_type": "code",
   "execution_count": null,
   "id": "3e1e25c9-9aa1-4d01-9f04-77c3a71d759d",
   "metadata": {},
   "outputs": [],
   "source": [
    "from langchain_community.document_loaders import WebBaseLoader"
   ]
  },
  {
   "cell_type": "code",
   "execution_count": null,
   "id": "6f3845d7-15f4-4441-8bd0-db44c3df9cf1",
   "metadata": {},
   "outputs": [],
   "source": [
    "loader = WebBaseLoader(WEBSITE_URL)\n",
    "\n",
    "docs = loader.load()"
   ]
  },
  {
   "cell_type": "code",
   "execution_count": null,
   "id": "98f3f629-4ae4-4307-a0c8-fbf1d8aaf38c",
   "metadata": {},
   "outputs": [],
   "source": [
    "docs"
   ]
  },
  {
   "cell_type": "code",
   "execution_count": null,
   "id": "31c62f0c-9895-483a-8ea4-f44284a427bd",
   "metadata": {},
   "outputs": [],
   "source": [
    "from langchain.text_splitter import RecursiveCharacterTextSplitter"
   ]
  },
  {
   "cell_type": "code",
   "execution_count": null,
   "id": "97b70ad9-4789-4340-8b88-b7b6f4486ef3",
   "metadata": {},
   "outputs": [],
   "source": [
    "text_splitter = RecursiveCharacterTextSplitter(\n",
    "        chunk_size = 1000,\n",
    "        chunk_overlap  = 200,\n",
    "        length_function = len,\n",
    ")\n",
    "\n",
    "docs_chunks = text_splitter.split_documents(docs)"
   ]
  },
  {
   "cell_type": "code",
   "execution_count": null,
   "id": "e687714b-8967-49a2-844a-6537c3541917",
   "metadata": {},
   "outputs": [],
   "source": [
    "docs_chunks"
   ]
  },
  {
   "cell_type": "code",
   "execution_count": null,
   "id": "fd9b9950-d4ac-45be-b5f0-74ff4df3af83",
   "metadata": {},
   "outputs": [],
   "source": [
    "len(docs_chunks)"
   ]
  },
  {
   "cell_type": "code",
   "execution_count": null,
   "id": "97e1582f-1e68-44e3-9566-0229d20904d3",
   "metadata": {},
   "outputs": [],
   "source": [
    "from langchain.embeddings.sentence_transformer import SentenceTransformerEmbeddings"
   ]
  },
  {
   "cell_type": "code",
   "execution_count": null,
   "id": "6d2055e5-aad2-4c4a-b12f-e1f5b1664ee8",
   "metadata": {},
   "outputs": [],
   "source": [
    "embeddings = SentenceTransformerEmbeddings(model_name = \"all-MiniLM-L6-v2\")"
   ]
  },
  {
   "cell_type": "code",
   "execution_count": null,
   "id": "0c851775-933e-44ad-833d-8fe9a93eb604",
   "metadata": {},
   "outputs": [],
   "source": [
    "import os\n",
    "os.environ[\"PINECONE_API_KEY\"] = \"REPLACE WITH VALID KEY\"\n",
    "\n",
    "INDEX_NAME      = \"website\""
   ]
  },
  {
   "cell_type": "code",
   "execution_count": null,
   "id": "3457bdc9-c1cd-4374-b761-b64834de4224",
   "metadata": {},
   "outputs": [],
   "source": [
    "from langchain_community.vectorstores import Pinecone"
   ]
  },
  {
   "cell_type": "code",
   "execution_count": null,
   "id": "f930d477-2daf-48f2-be6e-68854b07d6a1",
   "metadata": {},
   "outputs": [],
   "source": [
    "index = Pinecone.from_documents(docs, embeddings, index_name = INDEX_NAME)"
   ]
  },
  {
   "cell_type": "code",
   "execution_count": null,
   "id": "d62c70ee-5685-437f-9477-adaab95782a7",
   "metadata": {},
   "outputs": [],
   "source": [
    "index"
   ]
  }
 ],
 "metadata": {
  "kernelspec": {
   "display_name": "Python 3 (ipykernel)",
   "language": "python",
   "name": "python3"
  },
  "language_info": {
   "codemirror_mode": {
    "name": "ipython",
    "version": 3
   },
   "file_extension": ".py",
   "mimetype": "text/x-python",
   "name": "python",
   "nbconvert_exporter": "python",
   "pygments_lexer": "ipython3",
   "version": "3.10.12"
  }
 },
 "nbformat": 4,
 "nbformat_minor": 5
}
